{
 "cells": [
  {
   "cell_type": "code",
   "execution_count": 1,
   "id": "756457b6-2afb-472c-8e26-e2c45e94711e",
   "metadata": {},
   "outputs": [
    {
     "data": {
      "text/plain": [
       "'mkjnvHVSu5drsYZk88Mqg198ZVdTGM68Fy'"
      ]
     },
     "execution_count": 1,
     "metadata": {},
     "output_type": "execute_result"
    }
   ],
   "source": [
    "import bitcoin\n",
    "\n",
    "# generator point\n",
    "G = bitcoin.Point(\n",
    "    x = 0x79BE667EF9DCBBAC55A06295CE870B07029BFCDB2DCE28D959F2815B16F81798,\n",
    "    y = 0x483ada7726a3c4655da4fbfc0e1108a8fd17b448a68554199c47d08ffb10d4b8\n",
    ")\n",
    "\n",
    "# generate the first public/private encryption key pair and the associated address\n",
    "secret_key = int.from_bytes(b'Kevins secret key', 'big')\n",
    "public_key = G * secret_key\n",
    "\n",
    "public_key.address()"
   ]
  },
  {
   "cell_type": "code",
   "execution_count": 2,
   "id": "0919f1f5-0e75-4e30-bc6c-615187c6d556",
   "metadata": {},
   "outputs": [
    {
     "data": {
      "text/plain": [
       "'mppjjWBZx1veQfEiZgjUdJkRwm94RHHcJg'"
      ]
     },
     "execution_count": 2,
     "metadata": {},
     "output_type": "execute_result"
    }
   ],
   "source": [
    "# generate the second public/private encryption key pair and the associated address\n",
    "secret_key2 = int.from_bytes(b'Kevins second secret key', 'big')\n",
    "public_key2 = G * secret_key2\n",
    "\n",
    "public_key2.address()"
   ]
  },
  {
   "cell_type": "code",
   "execution_count": 3,
   "id": "03d702b5-4b5b-4e56-b408-dda4449724bc",
   "metadata": {},
   "outputs": [],
   "source": [
    "# every bitcoin transaction needs a reference to some unspent transaction output (UTXO) which is derived from a chain of ownership. In practice one would have access\n",
    "# to the complete ledger, but here we are using a blockchain explorer website as our intermediary to get the UTXO information\n",
    "\n",
    "# the public key script from the previous transaction (UTXO unlocking script)\n",
    "pk_script = bitcoin.Script([\n",
    "    118,\n",
    "    169,\n",
    "    bitcoin.hash160(public_key.encode()),\n",
    "    136,\n",
    "    172\n",
    "])\n",
    "\n",
    "# index and hash256 (encoded as big endian) of the UTXO\n",
    "prev_idx, prev_tx = 0, bytes.fromhex('b850d8a9ec3e4a707fe61dcb4f4640c78a3b54579e755c607586ca83aefd36ff')[::-1]"
   ]
  },
  {
   "cell_type": "code",
   "execution_count": 4,
   "id": "f19ea225-02ec-4481-ba00-954b17712446",
   "metadata": {},
   "outputs": [],
   "source": [
    "# the goal is to send 1000 sat (10e-8 bitcoin) from public_key to public_key2\n",
    "# the address associated with public_key 'mkjnvHVSu5drsYZk88Mqg198ZVdTGM68Fy' has 10,000 sat to begin with by using a testnet faucet\n",
    "\n",
    "tx_in = bitcoin.TxIn(\n",
    "    prev_tx = prev_tx,\n",
    "    prev_idx = prev_idx,\n",
    "    script_sig = pk_script\n",
    ")\n",
    "\n",
    "tx_out1 = bitcoin.TxOut(\n",
    "    amount = 1000, # send 1000 sat to our target wallet\n",
    "    script_pubkey = bitcoin.Script([\n",
    "        118,\n",
    "        169,\n",
    "        bitcoin.hash160(public_key2.encode()),\n",
    "        136,\n",
    "        172\n",
    "    ])\n",
    ")\n",
    "\n",
    "tx_out2 = bitcoin.TxOut(\n",
    "    amount = 6500, # send 6500 sat back to origin which implies a 2500 sat tx fee\n",
    "    script_pubkey = bitcoin.Script([\n",
    "        118,\n",
    "        169,\n",
    "        bitcoin.hash160(public_key.encode()),\n",
    "        136,\n",
    "        172\n",
    "    ])\n",
    ")\n",
    "\n",
    "# the (unsigned) transaction\n",
    "tx = bitcoin.Tx(\n",
    "    version = 1,\n",
    "    tx_ins = [tx_in],\n",
    "    tx_outs = [tx_out1, tx_out2]\n",
    ")"
   ]
  },
  {
   "cell_type": "code",
   "execution_count": 5,
   "id": "d7a7630d-dfda-4e27-a4bc-72f5052a8cc0",
   "metadata": {},
   "outputs": [
    {
     "data": {
      "text/plain": [
       "<Script with commands=[Element([48, 68, 2, 32, 104, 122, 42, 132, 174, 175, 56, 125, 140, 110, 151, 82, 251, 132, 72, 243, 105, 192, 245, 218, 159, 230, 149, 255, 46, 206, 183, 253, 109, 184, 183, 40, 2, 32, 84, 36, 121, 238, 208, 176, 51, 11, 42, 237, 58, 170, 208, 220, 88, 253, 171, 176, 127, 245, 157, 166, 114, 46, 198, 82, 22, 171, 139, 121, 28, 235, 1]), Element([2, 211, 34, 2, 92, 75, 156, 173, 88, 221, 134, 219, 89, 111, 112, 69, 62, 212, 89, 138, 184, 128, 162, 240, 187, 142, 11, 124, 72, 120, 37, 10, 112])]>"
      ]
     },
     "execution_count": 5,
     "metadata": {},
     "output_type": "execute_result"
    }
   ],
   "source": [
    "# sign the transaction by using ecdsa and create a bitcoin Script which encodes this\n",
    "signature = bitcoin.Signature.sign(secret_key, tx.encode())\n",
    "\n",
    "# append 1 (SIGHASH_ALL flag) to the encoded signature, indicating this DER signature encodes all transactions\n",
    "sig_bytes = signature.encode() + b'\\x01'\n",
    "\n",
    "# create the script with our encoded *unhashed* public key\n",
    "script_sig = bitcoin.Script([sig_bytes, public_key.encode()])\n",
    "script_sig"
   ]
  },
  {
   "cell_type": "code",
   "execution_count": 6,
   "id": "9cd21b46-c616-47dd-adcd-09911170c5d3",
   "metadata": {},
   "outputs": [
    {
     "data": {
      "text/plain": [
       "'0100000001ff36fdae83ca8675605c759e57543b8ac740464fcb1de67f704a3eeca9d850b8000000006a4730440220687a2a84aeaf387d8c6e9752fb8448f369c0f5da9fe695ff2eceb7fd6db8b7280220542479eed0b0330b2aed3aaad0dc58fdabb07ff59da6722ec65216ab8b791ceb012102d322025c4b9cad58dd86db596f70453ed4598ab880a2f0bb8e0b7c4878250a70ffffffff02e8030000000000001976a914661622409325922c6f52fb47938824fedefcf8e088ac64190000000000001976a914394635d5db3be5d316367a32cbef8333e433305088ac00000000'"
      ]
     },
     "execution_count": 6,
     "metadata": {},
     "output_type": "execute_result"
    }
   ],
   "source": [
    "# substitute the UTXO script with our newly signed transaction\n",
    "tx_in.script_sig = script_sig\n",
    "tx.tx_ins = [tx_in]\n",
    "\n",
    "# the final consolidated transaction to be broadcasted over the bitcoin network\n",
    "tx.encode().hex()"
   ]
  },
  {
   "cell_type": "code",
   "execution_count": 7,
   "id": "e4789ca3-7ff9-4fb4-ae76-d4a3bc38cc25",
   "metadata": {},
   "outputs": [
    {
     "data": {
      "text/plain": [
       "'555e67457f1d906df80fc5671411baec3c38877ef281f12a1663436b0b5333c9'"
      ]
     },
     "execution_count": 7,
     "metadata": {},
     "output_type": "execute_result"
    }
   ],
   "source": [
    "# the expected transaction id \n",
    "tx.id().hex()"
   ]
  }
 ],
 "metadata": {
  "kernelspec": {
   "display_name": "Python 3",
   "language": "python",
   "name": "python3"
  },
  "language_info": {
   "codemirror_mode": {
    "name": "ipython",
    "version": 3
   },
   "file_extension": ".py",
   "mimetype": "text/x-python",
   "name": "python",
   "nbconvert_exporter": "python",
   "pygments_lexer": "ipython3",
   "version": "3.8.10"
  }
 },
 "nbformat": 4,
 "nbformat_minor": 5
}
